{
  "nbformat": 4,
  "nbformat_minor": 0,
  "metadata": {
    "colab": {
      "provenance": [],
      "authorship_tag": "ABX9TyP34tgt2DYXC1DNMpze3hlX",
      "include_colab_link": true
    },
    "kernelspec": {
      "name": "python3",
      "display_name": "Python 3"
    },
    "language_info": {
      "name": "python"
    }
  },
  "cells": [
    {
      "cell_type": "markdown",
      "metadata": {
        "id": "view-in-github",
        "colab_type": "text"
      },
      "source": [
        "<a href=\"https://colab.research.google.com/github/RajeshPeddireddy/VectorDB/blob/main/llamaIndex_IndexType.ipynb\" target=\"_parent\"><img src=\"https://colab.research.google.com/assets/colab-badge.svg\" alt=\"Open In Colab\"/></a>"
      ]
    },
    {
      "cell_type": "markdown",
      "source": [],
      "metadata": {
        "id": "Di1raoS1ksj-"
      }
    },
    {
      "cell_type": "markdown",
      "source": [
        "In LlamaIndex, there are several types of indexes that serve different purposes. Let’s explore them:\n",
        "\n",
        "**List Index:**\n",
        "\n",
        "Represents data as a sequential list.\n",
        "Useful for maintaining order and accessing items by position.\n",
        "Think of it like an organized shopping list.\n",
        "\n",
        "\n",
        " **Tree Index:**\n",
        "Organizes data into a hierarchical binary tree structure.\n",
        "Efficient for searching, insertion, and deletion operations.\n",
        "Imagine a family tree with ancestors and descendants.\n",
        "\n",
        " **Vector Store Index:**\n",
        "Stores vectors (numeric representations) for efficient retrieval.\n",
        "Commonly used in similarity searches and recommendation systems.\n",
        "Picture it as a library of vectors, each representing an item.\n",
        "\n",
        " **Keyword Index:**\n",
        "Facilitates keyword-based retrieval.\n",
        "Maps keywords to relevant data entries.\n",
        "Similar to an index in the back of a book."
      ],
      "metadata": {
        "id": "webTyYYh4ui0"
      }
    }
  ]
}