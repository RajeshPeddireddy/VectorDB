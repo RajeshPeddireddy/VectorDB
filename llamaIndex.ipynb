{
  "nbformat": 4,
  "nbformat_minor": 0,
  "metadata": {
    "colab": {
      "provenance": [],
      "authorship_tag": "ABX9TyNyZmmJZiiBS84BXncjvrVa",
      "include_colab_link": true
    },
    "kernelspec": {
      "name": "python3",
      "display_name": "Python 3"
    },
    "language_info": {
      "name": "python"
    }
  },
  "cells": [
    {
      "cell_type": "markdown",
      "metadata": {
        "id": "view-in-github",
        "colab_type": "text"
      },
      "source": [
        "<a href=\"https://colab.research.google.com/github/RajeshPeddireddy/VectorDB/blob/main/llamaIndex.ipynb\" target=\"_parent\"><img src=\"https://colab.research.google.com/assets/colab-badge.svg\" alt=\"Open In Colab\"/></a>"
      ]
    },
    {
      "cell_type": "code",
      "execution_count": null,
      "metadata": {
        "id": "PahHsgYdq7Jz"
      },
      "outputs": [],
      "source": []
    },
    {
      "cell_type": "markdown",
      "source": [
        "\n",
        "The central mission of LlamaIndex is to provide an interface between Large Language Models (LLM’s), and your private, external data.\n",
        "\n",
        "\n",
        "Decoupling State from Compute: We’ve separated our abstractions to more cleanly decouple state (data + indices) with compute (retrievers, query engines).\n",
        "\n",
        "\n",
        "Decoupling State from Compute\n",
        "LlamaIndex design around 3 key abstractions that more cleanly decouple state from compute.\n",
        "\n",
        "\n",
        "\n",
        "\n",
        "1. At the core of LlamaIndex, an **Index** **manages the state**: abstracting away underlying storage, and exposing a view over processed data & associated metadata.\n",
        "\n",
        "2. Then, a **Retriever fetches the most relevant Nodes from an Index given a query**.\n",
        "\n",
        "3. Lastly, a **QueryEngine synthesizes a response given the query and retrieved Nodes.**\n",
        "\n",
        "\n"
      ],
      "metadata": {
        "id": "lgp4yGZjMYsO"
      }
    }
  ]
}