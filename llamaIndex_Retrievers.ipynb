{
  "nbformat": 4,
  "nbformat_minor": 0,
  "metadata": {
    "colab": {
      "provenance": [],
      "authorship_tag": "ABX9TyPH/iGoBbNwNl27cgJRBwvK",
      "include_colab_link": true
    },
    "kernelspec": {
      "name": "python3",
      "display_name": "Python 3"
    },
    "language_info": {
      "name": "python"
    }
  },
  "cells": [
    {
      "cell_type": "markdown",
      "metadata": {
        "id": "view-in-github",
        "colab_type": "text"
      },
      "source": [
        "<a href=\"https://colab.research.google.com/github/RajeshPeddireddy/VectorDB/blob/main/llamaIndex_Retrievers.ipynb\" target=\"_parent\"><img src=\"https://colab.research.google.com/assets/colab-badge.svg\" alt=\"Open In Colab\"/></a>"
      ]
    },
    {
      "cell_type": "markdown",
      "source": [
        " **Advanced Retrieval and Search**\n",
        "\n",
        "  These guides contain advanced retrieval techniques. Some are common like keyword/hybrid search, reranking, and more. Some are specific to LLM + RAG pipelines, like small-to-big and auto-merging retrieval.\n",
        "\n",
        "1. Define Custom Retriever\n",
        "2. BM25 Hybrid Retriever\n",
        "3. Simple Fusion Retriever\n",
        "4. Reciprocal Rerank Fusion Retriever\n",
        "5. Relative Score Fusion and Distribution-Based Score Fusion\n",
        "6. Auto Merging Retriever\n",
        "7. Metadata Replacement + Node Sentence Window\n",
        "8. Composable Objects\n",
        "\n"
      ],
      "metadata": {
        "id": "Di1raoS1ksj-"
      }
    }
  ]
}