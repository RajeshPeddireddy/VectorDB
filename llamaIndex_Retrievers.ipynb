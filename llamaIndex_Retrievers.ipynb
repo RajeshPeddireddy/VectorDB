{
  "nbformat": 4,
  "nbformat_minor": 0,
  "metadata": {
    "colab": {
      "provenance": [],
      "authorship_tag": "ABX9TyPbSnBksV1IZlcm1simPMHy",
      "include_colab_link": true
    },
    "kernelspec": {
      "name": "python3",
      "display_name": "Python 3"
    },
    "language_info": {
      "name": "python"
    }
  },
  "cells": [
    {
      "cell_type": "markdown",
      "metadata": {
        "id": "view-in-github",
        "colab_type": "text"
      },
      "source": [
        "<a href=\"https://colab.research.google.com/github/RajeshPeddireddy/VectorDB/blob/main/llamaIndex_Retrievers.ipynb\" target=\"_parent\"><img src=\"https://colab.research.google.com/assets/colab-badge.svg\" alt=\"Open In Colab\"/></a>"
      ]
    },
    {
      "cell_type": "markdown",
      "source": [
        " **Auto-Retrieval**\n",
        "\n",
        "These retrieval techniques perform semi-structured queries, combining semantic search with structured filtering.\n",
        "\n",
        "1. A Simple to Advanced Guide with Auto-Retrieval (with Pinecone + Arize Phoenix)\n",
        "\n",
        "2. Auto-Retrieval (with Lantern)\n",
        "\n",
        "3. Auto-Retrieval (with Chroma)\n",
        "\n",
        "4. Auto-Retrieval (with BagelDB)\n",
        "\n",
        "5. Structured Hierarchical Retrieval\n",
        "\n",
        "6. Auto-Retrieval from a Vectara Index\n"
      ],
      "metadata": {
        "id": "et52wk4s4Fcf"
      }
    },
    {
      "cell_type": "markdown",
      "source": [
        " **Advanced Retrieval and Search**\n",
        "\n",
        "  These guides contain advanced retrieval techniques. Some are common like keyword/hybrid search, reranking, and more. Some are specific to LLM + RAG pipelines, like small-to-big and auto-merging retrieval.\n",
        "\n",
        "1. Define Custom Retriever\n",
        "2. BM25 Hybrid Retriever\n",
        "3. Simple Fusion Retriever\n",
        "4. Reciprocal Rerank Fusion Retriever\n",
        "5. Relative Score Fusion and Distribution-Based Score Fusion\n",
        "6. Auto Merging Retriever\n",
        "7. Metadata Replacement + Node Sentence Window\n",
        "8. Composable Objects\n",
        "\n"
      ],
      "metadata": {
        "id": "Di1raoS1ksj-"
      }
    },
    {
      "cell_type": "markdown",
      "source": [
        " **Composed Retrievers**\n",
        "\n",
        "These are retrieval techniques that are composed on top of other retrieval techniques - providing higher-level capabilities like hierarchical retrieval and query decomposition.\n",
        "\n",
        "1. Recursive Retriever + Query Engine Demo\n",
        "2. Recursive Retriever + Node References\n",
        "3. Recursive Retriever + Node References + Braintrust\n",
        "4. Router Retriever\n",
        "5. Ensemble Retrieval Guide\n",
        "6. Google Generative Language Semantic Retriever\n",
        "7. Structured Hierarchical Retrieval\n",
        "8. Managed Retrievers\n",
        "9. Google Generative Language Semantic Retriever\n",
        "10. Vectara Managed Index\n",
        "11. Managed Index with Zilliz Cloud Pipelines\n",
        "12. VideoDB Retriever"
      ],
      "metadata": {
        "id": "lGnt7yvX6nhY"
      }
    }
  ]
}