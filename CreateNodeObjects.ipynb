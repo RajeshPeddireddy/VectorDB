{
  "nbformat": 4,
  "nbformat_minor": 0,
  "metadata": {
    "colab": {
      "provenance": [],
      "authorship_tag": "ABX9TyNGPU4xePjr743ZCXkTyveu",
      "include_colab_link": true
    },
    "kernelspec": {
      "name": "python3",
      "display_name": "Python 3"
    },
    "language_info": {
      "name": "python"
    }
  },
  "cells": [
    {
      "cell_type": "markdown",
      "metadata": {
        "id": "view-in-github",
        "colab_type": "text"
      },
      "source": [
        "<a href=\"https://colab.research.google.com/github/RajeshPeddireddy/VectorDB/blob/main/CreateNodeObjects.ipynb\" target=\"_parent\"><img src=\"https://colab.research.google.com/assets/colab-badge.svg\" alt=\"Open In Colab\"/></a>"
      ]
    },
    {
      "cell_type": "code",
      "execution_count": null,
      "metadata": {
        "id": "jlU74AB1wANh"
      },
      "outputs": [],
      "source": [
        "!pip install llama_index"
      ]
    },
    {
      "cell_type": "code",
      "source": [
        "from llama_index.core import VectorStoreIndex\n",
        "from llama_index.core.objects import ObjectIndex, SimpleObjectNodeMapping\n",
        "\n",
        "# Assume we have some arbitrary objects\n",
        "obj1 = {\"input\": \"Hey, how's it going\"}\n",
        "obj2 = [\"a\", \"b\", \"c\", \"d\"]\n",
        "obj3 = \"llamaindex is an awesome library!\"\n",
        "arbitrary_objects = [obj1, obj2, obj3]\n",
        "\n",
        "print(arbitrary_objects)\n",
        "\n",
        "# Create an object-node mapping\n",
        "obj_node_mapping = SimpleObjectNodeMapping.from_objects(arbitrary_objects)\n",
        "nodes = obj_node_mapping.to_nodes(arbitrary_objects)\n",
        "\n",
        "print(nodes[0])\n",
        "print(nodes[1])\n",
        "print(nodes[2])\n",
        "\n",
        "\n",
        "\n",
        "# # Create the ObjectIndex\n",
        "# object_index = ObjectIndex(\n",
        "#      index=VectorStoreIndex(nodes=nodes),\n",
        "#      object_node_mapping=obj_node_mapping\n",
        "#  )\n"
      ],
      "metadata": {
        "id": "Yb1-FN5ZwFDq"
      },
      "execution_count": null,
      "outputs": []
    }
  ]
}