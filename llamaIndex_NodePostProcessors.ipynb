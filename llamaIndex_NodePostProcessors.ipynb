{
  "nbformat": 4,
  "nbformat_minor": 0,
  "metadata": {
    "colab": {
      "provenance": [],
      "authorship_tag": "ABX9TyNO5w/eWWRd7vi/ojZzkrsz",
      "include_colab_link": true
    },
    "kernelspec": {
      "name": "python3",
      "display_name": "Python 3"
    },
    "language_info": {
      "name": "python"
    }
  },
  "cells": [
    {
      "cell_type": "markdown",
      "metadata": {
        "id": "view-in-github",
        "colab_type": "text"
      },
      "source": [
        "<a href=\"https://colab.research.google.com/github/RajeshPeddireddy/VectorDB/blob/main/llamaIndex_NodePostProcessors.ipynb\" target=\"_parent\"><img src=\"https://colab.research.google.com/assets/colab-badge.svg\" alt=\"Open In Colab\"/></a>"
      ]
    },
    {
      "cell_type": "markdown",
      "source": [
        "**Node Postprocessors**: A node postprocessor takes in a set of retrieved nodes and applies transformations, filtering, or re-ranking logic to them.\n",
        "\n",
        "\n",
        "Node postprocessors are a set of modules that take a set of nodes, and apply some kind of transformation or filtering before returning them.\n",
        "\n",
        "In LlamaIndex, node postprocessors are most commonly applied within a query engine, after the node retrieval step and before the response synthesis step.\n",
        "\n",
        "**Node Postprocessor Modules**\n",
        "1. SimilarityPostprocessor\n",
        "2. KeywordNodePostprocessor\n",
        "3. MetadataReplacementPostProcessor\n",
        "4. LongContextReorder\n",
        "5. SentenceEmbeddingOptimizer\n",
        "6. CohereRerank\n",
        "7. SentenceTransformerRerank\n",
        "8. LLM Rerank\n",
        "9. JinaRerank\n",
        "10. FixedRecencyPostprocessor\n",
        "11. EmbeddingRecencyPostprocessor\n",
        "12. TimeWeightedPostprocessor\n",
        "13. (Beta) PIINodePostprocessor\n",
        "14. (Beta) PrevNextNodePostprocessor\n",
        "15. (Beta) AutoPrevNextNodePostprocessor\n",
        "16. (Beta) RankGPT\n",
        "17. Colbert Reranker\n",
        "18. Jina Reranker\n",
        "19. All Notebooks\n",
        "\n"
      ],
      "metadata": {
        "id": "aX7EZmMlb7W2"
      }
    },
    {
      "cell_type": "markdown",
      "source": [],
      "metadata": {
        "id": "-YchJFUhb5IO"
      }
    }
  ]
}