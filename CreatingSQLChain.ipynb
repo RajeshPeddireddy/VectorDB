def get_schema(_):
    return db.get_table_info()


def run_query(query):
    return db.run(query)
