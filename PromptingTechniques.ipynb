{
  "nbformat": 4,
  "nbformat_minor": 0,
  "metadata": {
    "colab": {
      "provenance": [],
      "authorship_tag": "ABX9TyNnHfhXD+vIbWNuNoDTIMSB",
      "include_colab_link": true
    },
    "kernelspec": {
      "name": "python3",
      "display_name": "Python 3"
    },
    "language_info": {
      "name": "python"
    }
  },
  "cells": [
    {
      "cell_type": "markdown",
      "metadata": {
        "id": "view-in-github",
        "colab_type": "text"
      },
      "source": [
        "<a href=\"https://colab.research.google.com/github/RajeshPeddireddy/VectorDB/blob/main/PromptingTechniques.ipynb\" target=\"_parent\"><img src=\"https://colab.research.google.com/assets/colab-badge.svg\" alt=\"Open In Colab\"/></a>"
      ]
    },
    {
      "cell_type": "code",
      "execution_count": null,
      "metadata": {
        "id": "Gp_6jZamUmYO"
      },
      "outputs": [],
      "source": [
        "💡 Commonly used advanced prompt engineering techniques, explained using simple human analogies!\n",
        "\n",
        "Although there is an influx of prompt engineering papers, most of them are straightforward and closely mirror the methods humans use to solve problems.\n",
        "\n",
        "By applying analogies from the human thought process, you can swiftly grasp their concepts. These can be categorized into the following:\n",
        "\n",
        "📎 Chaining methods\n",
        "💡Analogy: Solving a problem step-by-step\n",
        "📜 Examples: Zero-shot/Few-shot CoT\n",
        "\n",
        "📎 Decomposition based methods\n",
        "💡Analogy: Break a complex problem into smaller sub-problems\n",
        "📜 Examples: Least-to-most Prompting, Question Decompostion\n",
        "\n",
        "📎Path aggregation methods\n",
        "💡Analogy: Generate multiple options to solve a problem and choose the best one\n",
        "📜 Examples: Graph of Thoughts, Tree of Thoughts\n",
        "\n",
        "📎Reasoning based methods\n",
        "💡Analogy: For all sub-tasks, reason and verify if they were performed correctly\n",
        "📜 Examples: CoVe, Self-Consistency\n",
        "\n",
        "📎External knowledge methods\n",
        "💡Analogy: Use external tools and knowledge to complete a task\n",
        "📜 Examples: CoK, ART\n",
        "\n"
      ]
    },
    {
      "cell_type": "markdown",
      "source": [
        "1.  What is a Prompt\n",
        "\ta. Intuition Behind Prompts.\n",
        "\n",
        "2. Prompt Patterns\n",
        "\tPersona Pattern\n",
        "\tFormat of the Persona Pattern\n",
        "\tPrompt Size Limitations\n",
        "\tPrompts are a Tool for Repeated Use.\n",
        "\tRoot Prompts\n",
        "\n",
        "\n",
        "3.  Question Refinement Pattern\n",
        "\tExamples:\n",
        "\tFrom now on, whenever I ask a question, suggest a better version of the question to use instead\n",
        "\n",
        "\tTailored Examples:\n",
        "\tWhenever I ask a question about dieting, suggest a better version of the question that emphasizes healthy eating habits and sound nutrition.\n",
        "\tAsk me for the first question to refine.\n",
        "\n",
        "    Cognitive Verifier Pattern\n",
        "\tExamples:\n",
        "\tWhen you are asked a question, follow these rules. Generate a number of additional questions that would help you more accurately answer the \tquestion. Combine the answers to the individual questions to produce the final answer to the overall question.\n",
        "\n",
        "\tTailored Examples:\n",
        "\tWhen you are asked to create a recipe, follow these rules. Generate a number of additional questions about the ingredients I have on hand\n",
        "\tand the cooking equipment that I own. Combine the answers to these questions to help produce a recipe that I have the ingredients\n",
        "\tand tools to make.\n",
        "\n",
        "\n",
        "    Audience Persona Pattern\n",
        "\tTo use this pattern, your prompt should make the following fundamental contextual statements:\n",
        "\tExplain X to me.\n",
        "\tAssume that I am Persona Y.\n",
        "\n",
        "\tYou will need to replace \"Y\" with an appropriate persona, such as \"have limited background in computer science\" or \"a healthcare expert\".\n",
        "\tYou will then need to specify the topic X that should be explained.\n",
        "\n",
        "\tExamples:\n",
        "\tExplain large language models to me. Assume that I am a bird.\n",
        "\n",
        "    Flipped Interaction Pattern\n",
        "   \tTo use this pattern, your prompt should make the following fundamental contextual statements:\n",
        "\tI would like you to ask me questions to achieve X\n",
        "\tYou should ask questions until condition Y is met or to achieve this goal (alternatively, forever)\n",
        "\t(Optional) ask me the questions one at a time, two at a time, ask me the first question, etc.\n",
        "\tYou will need to replace \"X\" with an appropriate goal, such as \"creating a meal plan\" or \"creating variations of my marketing materials.\" You should \tspecify when to stop asking questions with Y. Examples are \"until you have sufficient information about my audience and goals\" or \"until you know \twhat I like to eat and my caloric targets.\"\n",
        "\n",
        "\tExamples:\n",
        "\tI would like you to ask me questions to help me create variations of my marketing materials.You should ask questions until you have sufficient \tinformation about my current draft messages, audience, and goals. Ask me the first question.\n",
        "\n",
        "    Few Shot Examples\n",
        "    Few Shot Examples for Actions\n",
        "    Few Shot Examples for Intermediate Steps\n",
        "    \n",
        "    Chain of Thought Prompting\n",
        "    ReAct Prompting\n",
        "    \n",
        "    Game Play Pattern\n",
        "    Template Pattern\n",
        "    Meta Language Creation Pattern\n",
        "    Receipe Pattern\n",
        "    Alternative Approach Pattern\n",
        "    \n"
      ],
      "metadata": {
        "id": "vkdzzZlTV0I6"
      }
    }
  ]
}