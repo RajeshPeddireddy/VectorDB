{
  "nbformat": 4,
  "nbformat_minor": 0,
  "metadata": {
    "colab": {
      "provenance": [],
      "authorship_tag": "ABX9TyNFjBPMKVEwMId8WbmLxQd8",
      "include_colab_link": true
    },
    "kernelspec": {
      "name": "python3",
      "display_name": "Python 3"
    },
    "language_info": {
      "name": "python"
    }
  },
  "cells": [
    {
      "cell_type": "markdown",
      "metadata": {
        "id": "view-in-github",
        "colab_type": "text"
      },
      "source": [
        "<a href=\"https://colab.research.google.com/github/RajeshPeddireddy/VectorDB/blob/main/PromptingTechniques.ipynb\" target=\"_parent\"><img src=\"https://colab.research.google.com/assets/colab-badge.svg\" alt=\"Open In Colab\"/></a>"
      ]
    },
    {
      "cell_type": "code",
      "execution_count": null,
      "metadata": {
        "id": "Gp_6jZamUmYO"
      },
      "outputs": [],
      "source": [
        "💡 Commonly used advanced prompt engineering techniques, explained using simple human analogies!\n",
        "\n",
        "Although there is an influx of prompt engineering papers, most of them are straightforward and closely mirror the methods humans use to solve problems.\n",
        "\n",
        "By applying analogies from the human thought process, you can swiftly grasp their concepts. These can be categorized into the following:\n",
        "\n",
        "📎 Chaining methods\n",
        "💡Analogy: Solving a problem step-by-step\n",
        "📜 Examples: Zero-shot/Few-shot CoT\n",
        "\n",
        "📎 Decomposition based methods\n",
        "💡Analogy: Break a complex problem into smaller sub-problems\n",
        "📜 Examples: Least-to-most Prompting, Question Decompostion\n",
        "\n",
        "📎Path aggregation methods\n",
        "💡Analogy: Generate multiple options to solve a problem and choose the best one\n",
        "📜 Examples: Graph of Thoughts, Tree of Thoughts\n",
        "\n",
        "📎Reasoning based methods\n",
        "💡Analogy: For all sub-tasks, reason and verify if they were performed correctly\n",
        "📜 Examples: CoVe, Self-Consistency\n",
        "\n",
        "📎External knowledge methods\n",
        "💡Analogy: Use external tools and knowledge to complete a task\n",
        "📜 Examples: CoK, ART\n",
        "\n"
      ]
    }
  ]
}