{
  "nbformat": 4,
  "nbformat_minor": 0,
  "metadata": {
    "colab": {
      "provenance": [],
      "authorship_tag": "ABX9TyPntGopnobKmWZcPmMM9sg0",
      "include_colab_link": true
    },
    "kernelspec": {
      "name": "python3",
      "display_name": "Python 3"
    },
    "language_info": {
      "name": "python"
    }
  },
  "cells": [
    {
      "cell_type": "markdown",
      "metadata": {
        "id": "view-in-github",
        "colab_type": "text"
      },
      "source": [
        "<a href=\"https://colab.research.google.com/github/RajeshPeddireddy/VectorDB/blob/main/llamaIndex_QueryEngine.ipynb\" target=\"_parent\"><img src=\"https://colab.research.google.com/assets/colab-badge.svg\" alt=\"Open In Colab\"/></a>"
      ]
    },
    {
      "cell_type": "markdown",
      "source": [
        "https://zilliz.com/blog/getting-started-with-llamaindex\n",
        "\n",
        "\n",
        " **Structured & Semi-Structured Data**\n",
        "\n",
        " 1. Text-to-SQL Guide (Query Engine + Retriever)\n",
        " 2. JSON Query Engine\n",
        " 3. Pandas Query Engine\n",
        " 4. JSONalyze Query Engine\n",
        " 5. Knowledge Graph Query Engine\n",
        " 6. Knowledge Graph RAG Query Engine\n",
        " 7. Structured Hierarchical Retrieval\n",
        "\n",
        "**Advanced**\n",
        "  1.  Router Query Engine\n",
        "  2.  Retriever Router Query Engine\n",
        "  3.  Joint QA Summary Query Engine\n",
        "  4.  Sub Question Query Engine\n",
        "  5.  Multi-Step Query Engine\n",
        "  6.  SQL Router Query Engine\n",
        "  7.  SQL Auto Vector Query Engine\n",
        "  8.  SQL Join Query Engine\n",
        "  9.  [Beta] Text-to-SQL with PGVector\n",
        "  10.  SQL Query Engine with LlamaIndex + DuckDB\n",
        "  11.  Retry Query Engine\n",
        "  12.  CitationQueryEngine\n",
        "  13.  Recursive Retriever + Query Engine Demo\n",
        "  14.  Joint Tabular/Semantic QA over Tesla 10K\n",
        "  15.  Recursive Retriever + Document Agents\n",
        "  16.  Ensemble Query Engine Guide\n",
        "  17.  Advanced: Towards Multi-Document Querying/Analysis\n",
        "\n",
        "**Experimental**\n",
        "  FLARE Query Engine\n",
        "\n"
      ],
      "metadata": {
        "id": "VILOv3TGbGdp"
      }
    },
    {
      "cell_type": "markdown",
      "source": [],
      "metadata": {
        "id": "_Wktxx29a7u8"
      }
    }
  ]
}