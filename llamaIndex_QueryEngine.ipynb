{
  "nbformat": 4,
  "nbformat_minor": 0,
  "metadata": {
    "colab": {
      "provenance": [],
      "authorship_tag": "ABX9TyM3cedpN2XlGNNUP1lVfsTk",
      "include_colab_link": true
    },
    "kernelspec": {
      "name": "python3",
      "display_name": "Python 3"
    },
    "language_info": {
      "name": "python"
    }
  },
  "cells": [
    {
      "cell_type": "markdown",
      "metadata": {
        "id": "view-in-github",
        "colab_type": "text"
      },
      "source": [
        "<a href=\"https://colab.research.google.com/github/RajeshPeddireddy/VectorDB/blob/main/llamaIndex_QueryEngine.ipynb\" target=\"_parent\"><img src=\"https://colab.research.google.com/assets/colab-badge.svg\" alt=\"Open In Colab\"/></a>"
      ]
    },
    {
      "cell_type": "markdown",
      "source": [
        "\n",
        "https://blog.gopenai.com/different-types-of-indexes-in-llamaindex-to-improve-your-rag-system-0fb13132cab6\n",
        "\n",
        "https://zilliz.com/blog/getting-started-with-llamaindex\n"
      ],
      "metadata": {
        "id": "Di1raoS1ksj-"
      }
    },
    {
      "cell_type": "markdown",
      "source": [
        "   **What is an index in Llamaindex :**\n",
        "\n",
        "An **index** in LlamaIndex **is a data structur**e that allows you to **quickly search for and retrieve data from a large corpus of text**.\n",
        "\n",
        "It works by creating a **mapping between keywords** or phrases in the corpus **and the documents that contain those keywords** or phrases.\n",
        "\n",
        "\n",
        "**Indexes are useful** for a variety of tasks, such as:\n",
        "\n",
        "**Searching for information**: You can use an index to quickly find all of the documents that contain a particular keyword or phrase. This can be useful for research, customer support, or any other task that requires you to find information in a large corpus of text.\n",
        "\n",
        "**Ranking documents**: You can use an index to rank documents by their relevance to a particular query. This can be useful for search engines, recommender systems, or any other application that needs to rank documents.\n",
        "\n",
        "**Analyzing text**: You can use an index to analyze the content of a large corpus of text. This can be useful for understanding the sentiment of a document, identifying topics, or extracting keywords.\n",
        "\n",
        "LlamaIndex provides a variety of different index types, each with its own strengths and weaknesses. The best index type for a particular task will depend on the specific requirements of the task.\n",
        "\n",
        "\n",
        " **Types of indexes Llamaindex provides to structure or organize your data**\n",
        "\n",
        "\n",
        "Let’s understand some terminology first.\n",
        "\n",
        "\n",
        "**Node:** Corresponds to a chunk of text from a Document. LlamaIndex takes in Document objects and internally parses/chunks them into Node objects.\n",
        "\n",
        "**Response Synthesis**: Our module which synthesizes a response given the retrieved Node.\n",
        "\n",
        "\n",
        "for our understanding, we can think of a node as a chunk of text like 1k words or so, and response synthesis as an LLM which gives an answer (response) to a question by looking at relevant nodes(text-chunks).\n",
        "\n",
        "Llamaindex offers different types of **indexes to better organize and retrieve relevant information, and run queries efficiently using embeddings and LLM**\n",
        "\n",
        "1.   List Index\n",
        "2.   Vector Store Index\n",
        "3.   Tree Index\n",
        "4.   Keyword Table Index\n",
        "\n",
        "\n",
        "\n",
        "\n",
        "\n",
        "\n"
      ],
      "metadata": {
        "id": "webTyYYh4ui0"
      }
    }
  ]
}